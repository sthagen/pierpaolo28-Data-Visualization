{
 "cells": [
  {
   "cell_type": "code",
   "execution_count": 1,
   "id": "ed935f86-01af-413a-8031-bb60d4789a39",
   "metadata": {},
   "outputs": [],
   "source": [
    "import pandas as pd\n",
    "import numpy as np\n",
    "\n",
    "def import_data(name):\n",
    "    df = pd.read_excel(\"Inflation-data.xlsx\", sheet_name=name)\n",
    "    df = df.drop([\"Country Code\", \"IMF Country Code\", \"Indicator Type\", \"Series Name\", \"Unnamed: 58\"], axis=1)\n",
    "    df = (df.melt(id_vars = ['Country', 'Note'], \n",
    "              var_name = 'Date', value_name = 'Inflation'))\n",
    "    df = df.pivot_table(index='Date', columns='Country',  \n",
    "                        values='Inflation', aggfunc='sum')\n",
    "    return df\n",
    "\n",
    "inf_df = import_data(\"hcpi_a\")\n",
    "food_df = import_data(\"fcpi_a\")\n",
    "energy_df = import_data(\"ecpi_a\")\n",
    "\n",
    "inf_df.to_csv(\"inf_df\")\n",
    "food_df.to_csv(\"food_df\")\n",
    "energy_df.to_csv(\"energy_df\")"
   ]
  },
  {
   "cell_type": "code",
   "execution_count": null,
   "id": "552d44a2-1a07-464f-8621-5c2e6964b813",
   "metadata": {},
   "outputs": [],
   "source": []
  }
 ],
 "metadata": {
  "kernelspec": {
   "display_name": "Python 3 (ipykernel)",
   "language": "python",
   "name": "python3"
  },
  "language_info": {
   "codemirror_mode": {
    "name": "ipython",
    "version": 3
   },
   "file_extension": ".py",
   "mimetype": "text/x-python",
   "name": "python",
   "nbconvert_exporter": "python",
   "pygments_lexer": "ipython3",
   "version": "3.9.7"
  }
 },
 "nbformat": 4,
 "nbformat_minor": 5
}
